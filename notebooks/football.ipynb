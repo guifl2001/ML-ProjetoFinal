{
 "cells": [
  {
   "attachments": {},
   "cell_type": "markdown",
   "metadata": {},
   "source": [
    "# Projeto Final - Machine Learning\n",
    "\n",
    "## Alunos:\n",
    "- Guilherme Fontana Louro\n",
    "- Pedro Altobelli Teixeira Pinto\n",
    "\n",
    "## Objetivo\n",
    "- Criar um modelo de Machine Learning capaz de sugerir uma boa aposta para uma partida da premier league, a liga mais valiosa e competitiva do mundo. Essa aposta pode ser o resultado final do jogo, número de gols na partida(over/under), ou até handicap asiático.\n",
    "\n",
    "## Dataset\n",
    "- O dataset utilizado foi o [English Premier League](https://www.kaggle.com/datasets/saife245/english-premier-league), disponível no Kaggle. Ele contém dados de jogos de futebol da premier league por 20 temporadas, desde a temporada 2000/2001 até a 2021/2022. Os dados foram coletados do site [football-data.co.uk](https://www.football-data.co.uk/)."
   ]
  },
  {
   "attachments": {},
   "cell_type": "markdown",
   "metadata": {},
   "source": [
    "## Primeira iteração:\n",
    "- Imports necessários:"
   ]
  },
  {
   "cell_type": "code",
   "execution_count": 158,
   "metadata": {},
   "outputs": [],
   "source": [
    "import pandas as pd\n",
    "import pathlib\n",
    "from sklearn.model_selection import train_test_split\n",
    "from sklearn.tree import DecisionTreeClassifier\n",
    "from sklearn.linear_model import LogisticRegression\n",
    "from sklearn.ensemble import RandomForestClassifier\n",
    "from sklearn.naive_bayes import GaussianNB\n",
    "from sklearn.svm import SVC\n",
    "from sklearn.metrics import accuracy_score\n",
    "import numpy as np\n",
    "import re\n",
    "import glob"
   ]
  },
  {
   "attachments": {},
   "cell_type": "markdown",
   "metadata": {},
   "source": [
    "- Vamos concatenar os datasets de cada temporada em um único dataset, para facilitar a análise e a criação do modelo de machine learning."
   ]
  },
  {
   "cell_type": "code",
   "execution_count": 159,
   "metadata": {},
   "outputs": [
    {
     "name": "stdout",
     "output_type": "stream",
     "text": [
      "     Div        Date     HomeTeam     AwayTeam  FTHG  FTAG FTR  HTHG  HTAG  \\\n",
      "8395  E0  28/05/2023      Everton  Bournemouth     1     0   H     0     0   \n",
      "8396  E0  28/05/2023        Leeds    Tottenham     1     4   A     0     1   \n",
      "8397  E0  28/05/2023    Leicester     West Ham     2     1   H     1     0   \n",
      "8398  E0  28/05/2023   Man United       Fulham     2     1   H     1     1   \n",
      "8399  E0  28/05/2023  Southampton    Liverpool     4     4   D     2     2   \n",
      "\n",
      "     HTR  ...  AvgC<2.5  AHCh  B365CAHH  B365CAHA  PCAHH  PCAHA  MaxCAHH  \\\n",
      "8395   D  ...      2.14 -1.00      2.02      1.77   2.10   1.81     2.17   \n",
      "8396   A  ...      2.50  0.25      1.84      2.06   1.83   2.10     1.90   \n",
      "8397   H  ...      2.51 -0.25      1.75      2.05   1.85   2.06     1.90   \n",
      "8398   D  ...      2.95 -1.25      1.98      1.92   1.98   1.93     2.07   \n",
      "8399   D  ...      3.22  1.25      1.82      2.08   1.85   2.07     1.96   \n",
      "\n",
      "      MaxCAHA  AvgCAHH  AvgCAHA  \n",
      "8395     1.92     2.03     1.83  \n",
      "8396     2.14     1.81     2.06  \n",
      "8397     2.16     1.82     2.04  \n",
      "8398     1.98     1.97     1.89  \n",
      "8399     2.12     1.88     1.98  \n",
      "\n",
      "[5 rows x 145 columns]\n"
     ]
    }
   ],
   "source": [
    "# Lista de caminhos para os arquivos CSV de cada temporada\n",
    "paths = glob.glob('../data/seasons/*.csv')\n",
    "\n",
    "# Lista para armazenar os datasets de cada temporada\n",
    "datasets = []\n",
    "\n",
    "# Carregar os datasets de cada temporada\n",
    "for path in paths:\n",
    "    # Extrair o nome da temporada do caminho do arquivo\n",
    "    temporada = path.split('/')[-1].split('.')[0]\n",
    "    \n",
    "    # Carregar o dataset da temporada e adicionar a coluna 'Temporada'\n",
    "    dataset = pd.read_csv(path)\n",
    "    dataset['Temporada'] = temporada\n",
    "    \n",
    "    # Adicionar o dataset à lista\n",
    "    datasets.append(dataset)\n",
    "\n",
    "# Concatenar os datasets em um único dataframe\n",
    "data = pd.concat(datasets, ignore_index=True)\n",
    "\n",
    "# Substituir valores ausentes por valores nulos (NaN)\n",
    "data.replace('?', pd.NA, inplace=True)\n",
    "\n",
    "# Exibir os 5 ultimos registros\n",
    "print(data.tail())"
   ]
  },
  {
   "attachments": {},
   "cell_type": "markdown",
   "metadata": {},
   "source": [
    "Inicialmente, foi pensado no projeto a possibilidade de usar o dataset de usando como base os dados, de forma que iria ser treinado um modelos com as informações de todas as temporadas anteriores e testado com a temporada atual. Esse será o primeiro modelo a ser testado.\n",
    "\n",
    "A primeira iteração se basearia apenas em tentar prever os resultados dos jogos. Para isso, devemos concatenar os datasets de cada temporada em um único dataset, para facilitar a análise e a criação do modelo de machine learning, separando os dados de treino e teste, sendo o teste a temporada atual. Isso pode ser observado no código abaixo:"
   ]
  },
  {
   "cell_type": "code",
   "execution_count": 160,
   "metadata": {},
   "outputs": [],
   "source": [
    "# Filtrar os resultados antes de 31/05/2022\n",
    "train_data = data[data['Date'] < '2022-05-31']\n",
    "\n",
    "# Selecionar as colunas relevantes para treinamento\n",
    "train_data = train_data[[\"HomeTeam\", \"AwayTeam\", \"FTHG\", \"FTAG\", \"HS\", \"AS\", \"HST\", \"AST\", \"FTR\"]]\n",
    "\n",
    "\n",
    "# Converta as variáveis categóricas em variáveis numéricas usando one-hot encoding\n",
    "train_data_encoded = pd.get_dummies(train_data, columns=[\"HomeTeam\", \"AwayTeam\"], drop_first=True)\n",
    "\n",
    "# Separar as features (variáveis de entrada) e o target (variável de saída)\n",
    "X_train = train_data_encoded.drop(\"FTR\", axis=1)\n",
    "y_train = train_data_encoded[\"FTR\"]\n",
    "\n",
    "# Filtrar os resultados após 31/05/2022\n",
    "test_data = data[data['Date'] > '2022-05-31']\n",
    "\n",
    "# Selecionar as colunas relevantes para teste\n",
    "test_data = test_data[[\"HomeTeam\", \"AwayTeam\", \"FTHG\", \"FTAG\", \"HS\", \"AS\", \"HST\", \"AST\", \"FTR\"]]\n",
    "\n",
    "# Converta as variáveis categóricas em variáveis numéricas usando one-hot encoding\n",
    "test_data_encoded = pd.get_dummies(test_data, columns=[\"HomeTeam\", \"AwayTeam\"], drop_first=True)\n",
    "\n",
    "# Separar as features (variáveis de entrada) e o target (variável de saída)\n",
    "X_test = test_data_encoded.drop(\"FTR\", axis=1)\n",
    "y_test = test_data_encoded[\"FTR\"]"
   ]
  },
  {
   "attachments": {},
   "cell_type": "markdown",
   "metadata": {},
   "source": [
    "Agora que já temos os dados separados em treino e teste, podemos começar a análise exploratória dos dados. Para isso, pensamos em uma série de modelos que poderiamos utilizar, sendo eles:\n",
    "- Regressão Logística\n",
    "- Decision Tree\n",
    "- Random Forest\n",
    "- SVM\n",
    "- Naive Bayes\n",
    "\n",
    "Abaixo, segue o código para a criação de cada um dos modelos:"
   ]
  },
  {
   "cell_type": "code",
   "execution_count": 161,
   "metadata": {},
   "outputs": [
    {
     "name": "stderr",
     "output_type": "stream",
     "text": [
      "c:\\Users\\guifl\\anaconda3\\lib\\site-packages\\sklearn\\linear_model\\_logistic.py:814: ConvergenceWarning: lbfgs failed to converge (status=1):\n",
      "STOP: TOTAL NO. of ITERATIONS REACHED LIMIT.\n",
      "\n",
      "Increase the number of iterations (max_iter) or scale the data as shown in:\n",
      "    https://scikit-learn.org/stable/modules/preprocessing.html\n",
      "Please also refer to the documentation for alternative solver options:\n",
      "    https://scikit-learn.org/stable/modules/linear_model.html#logistic-regression\n",
      "  n_iter_i = _check_optimize_result(\n"
     ]
    },
    {
     "data": {
      "text/plain": [
       "GaussianNB()"
      ]
     },
     "execution_count": 161,
     "metadata": {},
     "output_type": "execute_result"
    }
   ],
   "source": [
    "# Crie e ajuste o modelo de regressão logística\n",
    "logreg = LogisticRegression()\n",
    "logreg.fit(X_train, y_train)\n",
    "\n",
    "# Crie e ajuste o modelo de árvore de decisão\n",
    "decision_tree = DecisionTreeClassifier(random_state=42)\n",
    "decision_tree.fit(X_train, y_train)\n",
    "\n",
    "# Crie e ajuste o modelo de Random Forest\n",
    "random_forest = RandomForestClassifier(n_estimators=100, random_state=42)\n",
    "random_forest.fit(X_train, y_train)\n",
    "\n",
    "# Crie e ajuste o modelo SVM\n",
    "svm = SVC()\n",
    "svm.fit(X_train, y_train)\n",
    "\n",
    "# Crie e ajuste o modelo Naive Bayes\n",
    "naive_bayes = GaussianNB()\n",
    "naive_bayes.fit(X_train, y_train)"
   ]
  },
  {
   "attachments": {},
   "cell_type": "markdown",
   "metadata": {},
   "source": [
    "Inicialmente, foi pensado em prever os resultados apenas utilizando as informações dos nomes dos times, mas a acurácia foi muito baixa, então decidimos utilizar as informações de médias de gols nesses jogos, chutes e chutes no gol de ambos os times, além do histórico de resultados desses times. Para isso, criamos duas funções, uma que calcula as estatísticas desse confronto, e outra que calcula essas médias e adiciona ao dataset, como pode ser visto abaixo:"
   ]
  },
  {
   "cell_type": "code",
   "execution_count": 162,
   "metadata": {},
   "outputs": [],
   "source": [
    "def obter_estatisticas_confronto(home_team, away_team):\n",
    "    # Filtrar os jogos anteriores entre os times\n",
    "    confrontos = data[((data['HomeTeam'] == home_team) & (data['AwayTeam'] == away_team)) |\n",
    "                      ((data['HomeTeam'] == away_team) & (data['AwayTeam'] == home_team))]\n",
    "\n",
    "    # Calcular as estatísticas dos confrontos\n",
    "    total_jogos = confrontos.shape[0]\n",
    "    vitorias_home = confrontos[confrontos['HomeTeam'] == home_team]['FTR'].eq('H').sum()\n",
    "    vitorias_away = confrontos[confrontos['AwayTeam'] == home_team]['FTR'].eq('A').sum()\n",
    "    empates = confrontos[confrontos['FTR'] == 'D'].shape[0]\n",
    "\n",
    "    # Criar DataFrame com as estatísticas\n",
    "    estatisticas = pd.DataFrame({'TotalJogos': [total_jogos],\n",
    "                                 'VitoriasHome': [vitorias_home],\n",
    "                                 'VitoriasAway': [vitorias_away],\n",
    "                                 'Empates': [empates]})\n",
    "\n",
    "    return estatisticas\n"
   ]
  },
  {
   "cell_type": "code",
   "execution_count": 163,
   "metadata": {},
   "outputs": [],
   "source": [
    "def obter_medias_times(home_team, away_team):\n",
    "    # Filtrar os jogos do time\n",
    "    jogos = data[(data['HomeTeam'] == home_team) & (data['AwayTeam'] == away_team)]\n",
    "\n",
    "    # Calcular as médias de gols, chutes e chutes no alvo\n",
    "    home_media_gols = jogos['FTHG'].mean()\n",
    "    home_media_chutes = jogos['HS'].mean()\n",
    "    home_media_chutes_alvo = jogos['HST'].mean()\n",
    "    away_media_gols = jogos['FTAG'].mean()\n",
    "    away_media_chutes = jogos['AS'].mean()\n",
    "    away_media_chutes_alvo = jogos['AST'].mean()\n",
    "\n",
    "    # Criar DataFrame com as médias\n",
    "    medias = pd.DataFrame({'HomeTeam': [home_team],\n",
    "                            'AwayTeam': [away_team],\n",
    "                            'FTHG': [home_media_gols],\n",
    "                            'HS': [home_media_chutes],\n",
    "                            'HST': [home_media_chutes_alvo],\n",
    "                            'FTAG': [away_media_gols],\n",
    "                            'AS': [away_media_chutes],\n",
    "                            'AST': [away_media_chutes_alvo]})\n",
    "\n",
    "    # Adicionar colunas de codificação dos times\n",
    "    for col in X_train.columns:\n",
    "        if col.startswith(\"HomeTeam_\") and col != f\"HomeTeam_{home_team}\":\n",
    "            medias[col] = 0\n",
    "        elif col.startswith(\"AwayTeam_\") and col != f\"AwayTeam_{away_team}\":\n",
    "            medias[col] = 0\n",
    "        elif col.startswith(\"HomeTeam_\") and col == f\"HomeTeam_{home_team}\":\n",
    "            medias[col] = 1\n",
    "        elif col.startswith(\"AwayTeam_\") and col == f\"AwayTeam_{away_team}\":\n",
    "            medias[col] = 1\n",
    "    \n",
    "    # Reordenar as colunas\n",
    "    medias = medias[X_train.columns]\n",
    "    \n",
    "\n",
    "    # Adicionar colunas ausentes\n",
    "    missing_cols = set(X_train.columns) - set(medias.columns)\n",
    "    for col in missing_cols:\n",
    "        medias[col] = 0\n",
    "\n",
    "    return medias"
   ]
  },
  {
   "attachments": {},
   "cell_type": "markdown",
   "metadata": {},
   "source": [
    "Agora, ambas as funções ofertarão mais informações para o modelo, possibilitando a criação de uma função capaz de prever os resultados dos jogos. Essa função será a função de previsão, que recebe um jogo, com os nomes de ambos os times, e retorna o resultado da partida, como pode ser visto abaixo:"
   ]
  },
  {
   "cell_type": "code",
   "execution_count": 164,
   "metadata": {},
   "outputs": [],
   "source": [
    "db = pathlib.Path.cwd() / \"../data/seasons/2022-2023.csv\"\n",
    "lastseason = pd.read_csv(db)\n",
    "\n",
    "# Função para fazer uma sugestão de aposta com base no modelo treinado\n",
    "def aposta_resultado(jogo, modelo):\n",
    "    jogo_encoded = obter_medias_times(jogo['HomeTeam'], jogo['AwayTeam'])\n",
    "\n",
    "    # Fazer a previsão com base no modelo treinado\n",
    "    predicao = modelo.predict(jogo_encoded)\n",
    "\n",
    "    # Filtrar o jogo específico\n",
    "    jogo_especifico = lastseason[(lastseason['HomeTeam'] == jogo['HomeTeam']) & (lastseason['AwayTeam'] == jogo['AwayTeam'])]\n",
    "\n",
    "    # Obter as odds específicas do jogo\n",
    "    odd_home = jogo_especifico['B365H'].values[0]\n",
    "    odd_draw = jogo_especifico['B365D'].values[0]\n",
    "    odd_away = jogo_especifico['B365A'].values[0]\n",
    "\n",
    "    # Se a previsão for de vitória do time da casa\n",
    "    if predicao[0] == 'H':\n",
    "        sugestao = \"Sugestão de aposta: Vitória do time da casa com odd de {}\".format(odd_home)\n",
    "    # Se a previsão for de empate\n",
    "    elif predicao[0] == 'D':\n",
    "        sugestao = \"Sugestão de aposta: Empate com odd de {}\".format(odd_draw)\n",
    "    # Se a previsão for de vitória do time visitante\n",
    "    else:\n",
    "        sugestao = \"Sugestão de aposta: Vitória do time visitante com odd de {}\".format(odd_away)\n",
    "\n",
    "    return sugestao, predicao[0]\n"
   ]
  },
  {
   "attachments": {},
   "cell_type": "markdown",
   "metadata": {},
   "source": [
    "Para testar a qualidade do modelo, podemos utilizar a função de previsão para prever os resultados dos jogos da temporada atual, e comparar com os resultados reais. Aqui, vamos gerar uma sugestão para o jogo onde o Man United recebe o Arsenal em casa, um grande clássico do futebol inglês. Além disso, vamos comparar a previsão com o resultado real da partida:"
   ]
  },
  {
   "cell_type": "code",
   "execution_count": 165,
   "metadata": {},
   "outputs": [
    {
     "name": "stdout",
     "output_type": "stream",
     "text": [
      "Sugestão de aposta: Vitória do time da casa com odd de 2.5\n"
     ]
    }
   ],
   "source": [
    "# Carregar o modelo treinado\n",
    "modelo = decision_tree\n",
    "\n",
    "# Exemplo de jogo específico\n",
    "jogo = {\n",
    "    \"HomeTeam\": 'Man United',\n",
    "    \"AwayTeam\": 'Arsenal',\n",
    "}\n",
    "\n",
    "# Fazer a sugestão de aposta com base no modelo treinado\n",
    "sugestao_aposta = aposta_resultado(jogo, modelo)\n",
    "\n",
    "print(sugestao_aposta[0])"
   ]
  },
  {
   "attachments": {},
   "cell_type": "markdown",
   "metadata": {},
   "source": [
    "## Agora podemos comparar com o resultado na vida real:\n",
    "![Resultado United x Arsenal](../imgs/unitedxarsenal.png)"
   ]
  },
  {
   "attachments": {},
   "cell_type": "markdown",
   "metadata": {},
   "source": [
    "Apesar disso, o modelo ainda não é perfeito, já que no futebol tudo pode acontecer, e o resultado de um jogo pode ser influenciado por diversos fatores, como lesões, suspensões, desfalques, etc. Um exemplo disso é o jogo entre o Manchester United e o Manchester City, onde o United venceu por 2x0, mesmo sendo o azarão da partida, como pode ser visto abaixo:"
   ]
  },
  {
   "cell_type": "code",
   "execution_count": 179,
   "metadata": {},
   "outputs": [
    {
     "name": "stdout",
     "output_type": "stream",
     "text": [
      "Sugestão de aposta: Vitória do time visitante com odd de 1.85\n"
     ]
    }
   ],
   "source": [
    "# Carregar o modelo treinado\n",
    "modelo = decision_tree\n",
    "\n",
    "# Exemplo de jogo específico\n",
    "jogo = {\n",
    "    \"HomeTeam\": 'Man United',\n",
    "    \"AwayTeam\": 'Man City',\n",
    "}\n",
    "\n",
    "# Fazer a sugestão de aposta com base no modelo treinado\n",
    "sugestao_aposta = aposta_resultado(jogo, modelo)\n",
    "\n",
    "print(sugestao_aposta[0])"
   ]
  },
  {
   "attachments": {},
   "cell_type": "markdown",
   "metadata": {},
   "source": [
    "## Agora podemos comparar com o resultado na vida real:\n",
    "![Resultado United x City](../imgs/unitedxcity.png)"
   ]
  },
  {
   "attachments": {},
   "cell_type": "markdown",
   "metadata": {},
   "source": [
    "Dessa forma, é interessante medir a acurácia do modelo, para saber se ele é realmente bom. Para isso, vamos criar uma função que recebe os resultados reais e os resultados previstos, e retorna a acurácia do modelo, como pode ser visto abaixo:"
   ]
  },
  {
   "cell_type": "code",
   "execution_count": 167,
   "metadata": {},
   "outputs": [],
   "source": [
    "def calcular_acuracia(modelo):\n",
    "    # Criar uma lista com os 20 times da Premier League 2021/2022\n",
    "    times = lastseason['HomeTeam'].unique()\n",
    "\n",
    "    # Criar uma acuracia total para todos os times\n",
    "    acuracia_total = 0\n",
    "\n",
    "    # Criar um for que percorre todos os times e faz a sugestão de aposta\n",
    "    for time in times:\n",
    "        # Criar um dataframe com os jogos do time\n",
    "        jogos_time = lastseason[(lastseason['HomeTeam'] == time) | (lastseason['AwayTeam'] == time)].copy()\n",
    "\n",
    "        # Criar um for que percorre todos os jogos do time e faz a sugestão de aposta\n",
    "        for index, jogo in jogos_time.iterrows():\n",
    "            # Criar um dicionário com os dados do jogo\n",
    "            jogo = {\n",
    "                \"HomeTeam\": jogo['HomeTeam'],\n",
    "                \"AwayTeam\": jogo['AwayTeam'],\n",
    "            }\n",
    "\n",
    "            # Fazer a sugestão de aposta\n",
    "            sugestao_aposta = aposta_resultado(jogo, modelo)\n",
    "\n",
    "            # Criar uma coluna com a sugestão de aposta\n",
    "            jogos_time.loc[index, 'SugestaoAposta'] = sugestao_aposta[1]\n",
    "\n",
    "        # Criar uma coluna com o resultado da aposta\n",
    "        jogos_time.loc[:, 'ResultadoAposta'] = jogos_time['FTR'].eq(jogos_time['SugestaoAposta'].str[-1])\n",
    "\n",
    "        # Calcular a acurácia do modelo\n",
    "        acuracia = jogos_time['ResultadoAposta'].mean()\n",
    "\n",
    "        # Somar a acurácia do time na acurácia total\n",
    "        acuracia_total += acuracia\n",
    "\n",
    "    # Retornar a acurácia do modelo\n",
    "    return acuracia_total / len(times)\n"
   ]
  },
  {
   "attachments": {},
   "cell_type": "markdown",
   "metadata": {},
   "source": [
    "Vamos testar a acurácia do Random Forest, que é uma evolução do Decision Tree, e o SVM, que é um modelo que utiliza vetores para classificar os dados. Para isso, vamos criar uma função que recebe o modelo, os dados de treino e os dados de teste, e retorna a acurácia do modelo, como pode ser visto abaixo:"
   ]
  },
  {
   "cell_type": "code",
   "execution_count": 168,
   "metadata": {},
   "outputs": [
    {
     "name": "stdout",
     "output_type": "stream",
     "text": [
      "A acurácia do modelo de regressão logística é de 61.84%\n",
      "A acurácia do modelo de decision tree é de 62.11%\n",
      "A acurácia do modelo de random forest é de 62.37%\n",
      "A acurácia do modelo support vector machine é de 61.32%\n",
      "A acurácia do modelo naive bayes é de 47.11%\n"
     ]
    }
   ],
   "source": [
    "print(\"A acurácia do modelo de regressão logística é de {}%\".format(round(calcular_acuracia(logreg) * 100, 2)))\n",
    "print(\"A acurácia do modelo de decision tree é de {}%\".format(round(calcular_acuracia(decision_tree) * 100, 2)))\n",
    "print(\"A acurácia do modelo de random forest é de {}%\".format(round(calcular_acuracia(random_forest) * 100, 2)))\n",
    "print(\"A acurácia do modelo support vector machine é de {}%\".format(round(calcular_acuracia(svm) * 100, 2)))\n",
    "print(\"A acurácia do modelo naive bayes é de {}%\".format(round(calcular_acuracia(naive_bayes) * 100, 2)))"
   ]
  },
  {
   "attachments": {},
   "cell_type": "markdown",
   "metadata": {},
   "source": [
    "# Iteração 2: Over ou Under 2.5 gols\n",
    "Como os resultados na última iteração foram bons, mas ainda estão muito longe de serem perfeitos, vamos criar outra iteração, capaz de sugerir uma aposta para a quantidade de gols que vão sair em uma partida. Nessa segunda iteração, vamos precisar treinar um novo modelo que recebe as informações da partida, mas ao invés de prever o resultado, ele vai prever a quantidade de gols que vão sair na partida. Para isso, vamos criar uma função que recebe os dados de treino e teste, como pode ser visto abaixo:"
   ]
  },
  {
   "cell_type": "code",
   "execution_count": 169,
   "metadata": {},
   "outputs": [],
   "source": [
    "# Filtrar os resultados antes de 31/05/2022\n",
    "gols_train = data[data['Date'] < '2022-05-31']\n",
    "\n",
    "# Selecionar as colunas relevantes para treinamento\n",
    "gols_train = gols_train[[\"HomeTeam\", \"AwayTeam\", \"FTHG\", \"FTAG\"]]\n",
    "\n",
    "# Transformar a variável de saída em uma variável binária indicando se teve mais ou menos de 2.5 gols\n",
    "gols_train['Resultado'] = gols_train['FTHG'] + gols_train['FTAG'] > 2.5\n",
    "gols_train['Resultado'] = gols_train['Resultado'].astype(int)\n",
    "\n",
    "# Converter as variáveis categóricas em variáveis numéricas usando one-hot encoding\n",
    "gols_train_encoded = pd.get_dummies(gols_train, columns=[\"HomeTeam\", \"AwayTeam\"], drop_first=True)\n",
    "\n",
    "# Separar as features (variáveis de entrada) e o target (variável de saída)\n",
    "X_train_gols = gols_train_encoded.drop(\"Resultado\", axis=1)\n",
    "y_train_gols = gols_train_encoded[\"Resultado\"]\n",
    "\n",
    "# Filtrar os resultados a partir de 31/05/2022\n",
    "test_gols = data[data['Date'] >= '2022-05-31']\n",
    "\n",
    "# Selecionar as colunas relevantes para teste\n",
    "test_gols = test_gols[[\"HomeTeam\", \"AwayTeam\", \"FTHG\", \"FTAG\"]]\n",
    "test_gols['Resultado'] = test_gols['FTHG'] + test_gols['FTAG'] > 2.5\n",
    "test_gols['Resultado'] = test_gols['Resultado'].astype(int)\n",
    "\n",
    "# Converter as variáveis categóricas em variáveis numéricas usando one-hot encoding\n",
    "test_gols_encoded = pd.get_dummies(test_gols, columns=[\"HomeTeam\", \"AwayTeam\"], drop_first=True)\n",
    "\n",
    "# Separar as features (variáveis de entrada) e o target (variável de saída)\n",
    "X_test_gols = test_gols_encoded.drop(\"Resultado\", axis=1)\n",
    "y_test_gols = test_gols_encoded[\"Resultado\"]"
   ]
  },
  {
   "attachments": {},
   "cell_type": "markdown",
   "metadata": {},
   "source": [
    "Agora, vamos treinar os mesmos modelos com base nesse novo dataset de treino:"
   ]
  },
  {
   "cell_type": "code",
   "execution_count": 170,
   "metadata": {},
   "outputs": [
    {
     "data": {
      "text/plain": [
       "GaussianNB()"
      ]
     },
     "execution_count": 170,
     "metadata": {},
     "output_type": "execute_result"
    }
   ],
   "source": [
    "# Crie e ajuste o modelo de regressão logística\n",
    "logreg_gols = LogisticRegression()\n",
    "logreg_gols.fit(X_train_gols, y_train_gols)\n",
    "\n",
    "# Crie e ajuste o modelo de árvore de decisão\n",
    "decision_tree_gols = DecisionTreeClassifier(random_state=42)\n",
    "decision_tree_gols.fit(X_train_gols, y_train_gols)\n",
    "\n",
    "# Crie e ajuste o modelo de Random Forest\n",
    "random_forest_gols = RandomForestClassifier(n_estimators=100, random_state=42)\n",
    "random_forest_gols.fit(X_train_gols, y_train_gols)\n",
    "\n",
    "# Crie e ajuste o modelo SVM_gols\n",
    "svm_gols = SVC()\n",
    "svm_gols.fit(X_train_gols, y_train_gols)\n",
    "\n",
    "# Crie e ajuste o modelo Naive Bayes\n",
    "naive_bayes_gols = GaussianNB()\n",
    "naive_bayes_gols.fit(X_train_gols, y_train_gols)"
   ]
  },
  {
   "attachments": {},
   "cell_type": "markdown",
   "metadata": {},
   "source": [
    "Agora, vamos criar uma função que recebe um jogo e um modelo, retornando a quantidade de gols que vão sair na partida(over ou under 2.5), como pode ser visto abaixo:"
   ]
  },
  {
   "cell_type": "code",
   "execution_count": 171,
   "metadata": {},
   "outputs": [],
   "source": [
    "# Função para fazer uma sugestão de aposta com base no modelo treinado\n",
    "def aposta_gols(jogo, modelo):\n",
    "    jogo_encoded = obter_medias_times(jogo['HomeTeam'], jogo['AwayTeam'])\n",
    "    # cortar as colunas AS, AST, HS e HST\n",
    "    jogo_encoded = jogo_encoded.drop(['AS', 'AST', 'HS', 'HST'], axis=1)\n",
    "\n",
    "\n",
    "    # Fazer a previsão com base no modelo treinado\n",
    "    predicao = modelo.predict(jogo_encoded)\n",
    "\n",
    "    # Filtrar o jogo específico\n",
    "    jogo_especifico = lastseason[(lastseason['HomeTeam'] == jogo['HomeTeam']) & (lastseason['AwayTeam'] == jogo['AwayTeam'])]\n",
    "\n",
    "    # Obter as odds específicas do jogo\n",
    "    odd_maior = jogo_especifico['B365>2.5'].values[0]\n",
    "    odd_menor = jogo_especifico['B365<2.5'].values[0]\n",
    "\n",
    "    # Criar o dicionário com a sugestão de aposta\n",
    "    sugestao_aposta = {\n",
    "        'HomeTeam': jogo['HomeTeam'],\n",
    "        'AwayTeam': jogo['AwayTeam'],\n",
    "        'Predicao': predicao[0],\n",
    "        'OddMaior': odd_maior,\n",
    "        'OddMenor': odd_menor,\n",
    "    }\n",
    "\n",
    "    # Verificar se o jogo teve mais de 2.5 gols ou não\n",
    "    if predicao[0]:\n",
    "        sugestao = \"Sugestão de aposta: Mais de 2.5 gols com odd de {}\".format(odd_maior)\n",
    "    else:\n",
    "        sugestao = \"Sugestão de aposta: Menos de 2.5 gols com odd de {}\".format(odd_menor)\n",
    "\n",
    "    return sugestao, predicao[0]"
   ]
  },
  {
   "attachments": {},
   "cell_type": "markdown",
   "metadata": {},
   "source": [
    "Agora, vamos testar o modelo com o jogo entre o Manchester United e o Arsenal, dessa vez o jogo fora de casa, como pode ser visto abaixo:"
   ]
  },
  {
   "cell_type": "code",
   "execution_count": 172,
   "metadata": {},
   "outputs": [
    {
     "name": "stdout",
     "output_type": "stream",
     "text": [
      "Sugestão de aposta: Mais de 2.5 gols com odd de 1.73\n"
     ]
    }
   ],
   "source": [
    "# Carregar o modelo treinado\n",
    "modelo = logreg_gols\n",
    "\n",
    "# Exemplo de jogo específico\n",
    "jogo = {\n",
    "    \"HomeTeam\": 'Arsenal',\n",
    "    \"AwayTeam\": 'Man United',\n",
    "}\n",
    "\n",
    "# Fazer a sugestão de aposta com base no modelo treinado\n",
    "sugestao_aposta = aposta_gols(jogo, modelo)\n",
    "\n",
    "print(sugestao_aposta[0])"
   ]
  },
  {
   "attachments": {},
   "cell_type": "markdown",
   "metadata": {},
   "source": [
    "# Agora podemos comparar com o resultado na vida real:\n",
    "\n",
    "![Resultado United x Arsenal](../imgs/unitedxarsenal2.png)"
   ]
  },
  {
   "attachments": {},
   "cell_type": "markdown",
   "metadata": {},
   "source": [
    "Assim como a iteração anterior, a acurácia não é perfeita, mas foi boa o suficiente para acertar o over 2.5 gols nesse jogo. Ainda assim, existem situações atípicas no futebol, como no jogo entre o Manchester United e o Chelsea, onde o United goleou o Chelsea por 4x1, mesmo os últimos 6 jogos entre os times tendo tido menos de 2.5 gols, como pode ser visto abaixo:"
   ]
  },
  {
   "cell_type": "code",
   "execution_count": 184,
   "metadata": {},
   "outputs": [
    {
     "name": "stdout",
     "output_type": "stream",
     "text": [
      "Sugestão de aposta: Menos de 2.5 gols com odd de 2.38\n"
     ]
    }
   ],
   "source": [
    "# Carregar o modelo treinado\n",
    "modelo = svm_gols\n",
    "\n",
    "# Exemplo de jogo específico\n",
    "jogo = {\n",
    "    \"HomeTeam\": 'Man United',\n",
    "    \"AwayTeam\": 'Chelsea',\n",
    "}\n",
    "\n",
    "# Fazer a sugestão de aposta com base no modelo treinado\n",
    "sugestao_aposta = aposta_gols(jogo, modelo)\n",
    "\n",
    "print(sugestao_aposta[0])"
   ]
  },
  {
   "attachments": {},
   "cell_type": "markdown",
   "metadata": {},
   "source": [
    "# Agora podemos comparar com o resultado na vida real:\n",
    "\n",
    "![Resultado United x Chelsea](../imgs/unitedxchelsea.png)"
   ]
  },
  {
   "attachments": {},
   "cell_type": "markdown",
   "metadata": {},
   "source": [
    "Dessa forma, é interessante medir a acurácia do modelo, para saber se ele é realmente bom. Para isso, vamos criar uma função que recebe os resultados reais e os resultados previstos, e retorna a acurácia do modelo, como pode ser visto abaixo:"
   ]
  },
  {
   "cell_type": "code",
   "execution_count": 174,
   "metadata": {},
   "outputs": [],
   "source": [
    "def calcular_acuracia_gols(modelo):\n",
    "    # Criar uma lista com os 20 times da Premier League 2021/2022\n",
    "    times = lastseason['HomeTeam'].unique()\n",
    "\n",
    "    # Criar uma acuracia total para todos os times\n",
    "    acuracia_total = 0\n",
    "\n",
    "    # Criar um for que percorre todos os times e faz a sugestão de aposta\n",
    "    for time in times:\n",
    "        # Criar um dataframe com os jogos do time\n",
    "        jogos_time = lastseason[(lastseason['HomeTeam'] == time) | (lastseason['AwayTeam'] == time)].copy()\n",
    "        jogos_time = jogos_time.drop(['AS', 'AST', 'HS', 'HST'], axis=1)\n",
    "\n",
    "        # Criar um for que percorre todos os jogos do time e faz a sugestão de aposta\n",
    "        for index, jogo in jogos_time.iterrows():\n",
    "            # Obter as informações do jogo do lastseason\n",
    "            home_team = jogo['HomeTeam']\n",
    "            away_team = jogo['AwayTeam']\n",
    "            jogo_info = lastseason[(lastseason['HomeTeam'] == home_team) & (lastseason['AwayTeam'] == away_team)].iloc[0]\n",
    "\n",
    "            # Fazer a sugestão de aposta\n",
    "            sugestao_aposta = aposta_gols(jogo, modelo)\n",
    "\n",
    "            # Criar uma coluna com a sugestão de aposta\n",
    "            jogos_time.loc[index, 'SugestaoAposta'] = sugestao_aposta[1]\n",
    "\n",
    "            # Calcular o total de gols do jogo\n",
    "            total_gols = jogo_info['FTHG'] + jogo_info['FTAG']\n",
    "\n",
    "            # Definir o resultado do jogo com base no total de gols\n",
    "            if total_gols > 2.5:\n",
    "                jogos_time.loc[index, 'Resultado'] = 1.0\n",
    "            else:\n",
    "                jogos_time.loc[index, 'Resultado'] = 0.0\n",
    "\n",
    "\n",
    "        # Criar uma coluna com o resultado da aposta\n",
    "        jogos_time.loc[:, 'ResultadoAposta'] = jogos_time['Resultado'].eq(jogos_time['SugestaoAposta'])\n",
    "\n",
    "        # Calcular a acurácia do modelo\n",
    "        acuracia = jogos_time['ResultadoAposta'].mean()\n",
    "\n",
    "        # Somar a acurácia do time na acurácia total\n",
    "        acuracia_total += acuracia\n",
    "\n",
    "    # Retornar a acurácia do modelo\n",
    "    return acuracia_total / len(times)\n"
   ]
  },
  {
   "attachments": {},
   "cell_type": "markdown",
   "metadata": {},
   "source": [
    "Vamos testar a acurácia do Random Forest, que é uma evolução do Decision Tree, e o SVM, que é um modelo que utiliza vetores para classificar os dados. Para isso, vamos criar uma função que recebe o modelo, os dados de treino e os dados de teste, e retorna a acurácia do modelo, como pode ser visto abaixo:"
   ]
  },
  {
   "cell_type": "code",
   "execution_count": 175,
   "metadata": {},
   "outputs": [
    {
     "name": "stdout",
     "output_type": "stream",
     "text": [
      "A acurácia do modelo de regressão logística é de 70.26%\n",
      "A acurácia do modelo de decision tree é de 71.84%\n",
      "A acurácia do modelo de random forest é de 71.84%\n",
      "A acurácia do modelo support vector machine é de 68.95%\n",
      "A acurácia do modelo naive bayes é de 56.84%\n"
     ]
    }
   ],
   "source": [
    "print(\"A acurácia do modelo de regressão logística é de {}%\".format(round(calcular_acuracia_gols(logreg_gols) * 100, 2)))\n",
    "print(\"A acurácia do modelo de decision tree é de {}%\".format(round(calcular_acuracia_gols(decision_tree_gols) * 100, 2)))\n",
    "print(\"A acurácia do modelo de random forest é de {}%\".format(round(calcular_acuracia_gols(random_forest_gols) * 100, 2)))\n",
    "print(\"A acurácia do modelo support vector machine é de {}%\".format(round(calcular_acuracia_gols(svm_gols) * 100, 2)))\n",
    "print(\"A acurácia do modelo naive bayes é de {}%\".format(round(calcular_acuracia_gols(naive_bayes_gols) * 100, 2)))"
   ]
  },
  {
   "attachments": {},
   "cell_type": "markdown",
   "metadata": {},
   "source": [
    "Como podemos ver, a acurácia desse modelo é melhor, prevendo no melhor dos casos com 75% de acurácia o over/under desses jogos. Com esses modelos, já fica interessante fazer uma aposta, possibilitando o lucro do usuário. Mesmo assim, *é importante deixar claro para o usuário que não recomendamos que ele realize bets esperando 100% de acerto ou garantia de lucro.*\n",
    "\n",
    "O Futebol é um esporte imprevisível, e mesmo com um modelo que tem uma acurácia de 75%, ainda existem situações atípicas que podem acontecer, como lesões, suspensões, desfalques, etc. Por isso, é importante que o usuário tenha consciência de que o modelo não é perfeito, e que ele pode perder dinheiro com as apostas. O ideal seria juntar esse modelo com outros modelos, para que o usuário tenha uma maior segurança na hora de realizar a aposta."
   ]
  },
  {
   "attachments": {},
   "cell_type": "markdown",
   "metadata": {},
   "source": [
    "# Playground para o usuário\n",
    "\n",
    "Abaixo, vamos deixar um playground para o usuário, onde ele pode testar o modelo com os jogos que ele quiser, e ver se o modelo acerta ou não. Para isso, basta colocar o nome dos times que vão jogar, e o modelo que ele quer testar, como pode ser visto abaixo:"
   ]
  },
  {
   "attachments": {},
   "cell_type": "markdown",
   "metadata": {},
   "source": [
    "### Primeiro, vamos definir as funções:\n",
    "se você não entende de programação, pode rodar o código sem se preocupar com isso"
   ]
  },
  {
   "cell_type": "code",
   "execution_count": 176,
   "metadata": {},
   "outputs": [],
   "source": [
    "# Definir uma função em que o usuário insere o nome do time da casa, de fora e o modelo\n",
    "def aposta_gols_usuario():\n",
    "    # Obter o nome do time da casa\n",
    "    home_team = input(\"Digite o nome do time da casa: \")\n",
    "\n",
    "    # Obter o nome do time de fora\n",
    "    away_team = input(\"Digite o nome do time de fora: \")\n",
    "\n",
    "    # Obter o modelo\n",
    "    modelo_resultado = input(\"Digite o nome do modelo para prever o resultado: \")\n",
    "\n",
    "    # Definir o modelo de resultados buscando qual modelo o usuário escolheu\n",
    "    if modelo_resultado == \"logreg\" or modelo_resultado == \"regressão logística\":\n",
    "        modelo_resultado = logreg\n",
    "    elif modelo_resultado == \"decision_tree\" or modelo_resultado == \"decision tree\":\n",
    "        modelo_resultado = decision_tree\n",
    "    elif modelo_resultado == \"random_forest\" or modelo_resultado == \"random forest\":\n",
    "        modelo_resultado = random_forest\n",
    "    elif modelo_resultado == \"svm\" or modelo_resultado == \"support vector machine\":\n",
    "        modelo_resultado = svm\n",
    "    elif modelo_resultado == \"naive_bayes\" or modelo_resultado == \"naive bayes\":\n",
    "        modelo_resultado = naive_bayes\n",
    "\n",
    "    # Obter o modelo de gols\n",
    "    modelo_gols = input(\"Digite o nome do modelo para prever os gols: \")\n",
    "\n",
    "    # Definir o modelo de gols buscando qual modelo o usuário escolheu\n",
    "    if modelo_gols == \"logreg_gols\" or modelo_gols == \"logreg\" or modelo_gols == \"regressão logística\":\n",
    "        modelo_gols = logreg_gols\n",
    "    elif modelo_gols == \"decision_tree_gols\" or modelo_gols == \"decision_tree\" or modelo_gols == \"decision tree\":\n",
    "        modelo_gols = decision_tree_gols\n",
    "    elif modelo_gols == \"random_forest_gols\" or modelo_gols == \"random_forest\" or modelo_gols == \"random forest\":\n",
    "        modelo_gols = random_forest_gols\n",
    "    elif modelo_gols == \"svm_gols\" or modelo_gols == \"svm\" or modelo_gols == \"support vector machine\":\n",
    "        modelo_gols = svm_gols\n",
    "    elif modelo_gols == \"naive_bayes_gols\" or modelo_gols == \"naive_bayes\" or modelo_gols == \"naive bayes\":\n",
    "        modelo_gols = naive_bayes_gols\n",
    "\n",
    "    # Criar o dicionário com o jogo\n",
    "    jogo = {\n",
    "        \"HomeTeam\": home_team,\n",
    "        \"AwayTeam\": away_team,\n",
    "    }\n",
    "\n",
    "    # Fazer a sugestão de aposta com base no modelo treinado\n",
    "    resultado = aposta_resultado(jogo, modelo_resultado)\n",
    "\n",
    "    # Fazer a sugestão de aposta com base no modelo treinado\n",
    "    gols = aposta_gols(jogo, modelo_gols)\n",
    "\n",
    "    print(resultado[0])\n",
    "    print(gols[0])\n",
    "\n",
    "    return jogo, modelo_resultado, modelo_gols, resultado[1], gols[1]"
   ]
  },
  {
   "cell_type": "code",
   "execution_count": 177,
   "metadata": {},
   "outputs": [],
   "source": [
    "db = pathlib.Path.cwd() / \"../data/seasons/2022-2023.csv\"\n",
    "lastseason = pd.read_csv(db)\n",
    "\n",
    "# Criar uma função que retorna o resultado da aposta\n",
    "def resultado_aposta(aposta):\n",
    "    # Obter o resultado do jogo\n",
    "    jogo = lastseason[(lastseason['HomeTeam'] == aposta[0]['HomeTeam']) & (lastseason['AwayTeam'] == aposta[0]['AwayTeam'])]\n",
    "\n",
    "    jogo_info = lastseason[(lastseason['HomeTeam'] == aposta[0]['HomeTeam']) & (lastseason['AwayTeam'] == aposta[0]['AwayTeam'])].iloc[0]\n",
    "    \n",
    "\n",
    "    # Calcular o total de gols do jogo\n",
    "    total_gols = jogo_info['FTHG'] + jogo_info['FTAG']\n",
    "\n",
    "    # Definir o resultado do jogo com base no total de gols\n",
    "    if total_gols > 2.5 and aposta[4] == 1.0:\n",
    "        gols = \"Acertamos que o jogo teve mais de 2.5 gols\"\n",
    "    elif total_gols < 2.5 and aposta[4] == 0.0:\n",
    "        gols = \"Acertamos que o jogo teve menos de 2.5 gols\"\n",
    "    else:\n",
    "        gols = \"Erramos o total de gols\"\n",
    "    \n",
    "    # Definir se a aposta acertou ou não\n",
    "    if aposta[3] == jogo_info['FTR']:\n",
    "        resultado = \"Acertamos o resultado!\"\n",
    "    else:\n",
    "        resultado = \"Erramos o resultado\"\n",
    "    \n",
    "\n",
    "    # Criar uma lista com o resultado da aposta\n",
    "    resultado_aposta = [resultado, gols]\n",
    "\n",
    "    return resultado_aposta"
   ]
  },
  {
   "attachments": {},
   "cell_type": "markdown",
   "metadata": {},
   "source": [
    "## Agora vamos ver uma lista com os times dessa temporada!\n",
    "O ideal é escrever o nome do time exatamente como está escrito na lista abaixo, para que o modelo funcione corretamente"
   ]
  },
  {
   "cell_type": "code",
   "execution_count": 178,
   "metadata": {},
   "outputs": [
    {
     "name": "stdout",
     "output_type": "stream",
     "text": [
      "Lista de times da Premier League 2022/2023\n",
      "['Crystal Palace' 'Fulham' 'Bournemouth' 'Leeds' 'Newcastle' 'Tottenham'\n",
      " 'Everton' 'Leicester' 'Man United' 'West Ham' 'Aston Villa' 'Arsenal'\n",
      " 'Brighton' 'Man City' 'Southampton' 'Wolves' 'Brentford' \"Nott'm Forest\"\n",
      " 'Chelsea' 'Liverpool']\n"
     ]
    }
   ],
   "source": [
    "# Criar uma lista com os 20 times da Premier League 2022/2023\n",
    "times = lastseason['HomeTeam'].unique()\n",
    "\n",
    "# Listar os times para o usuário\n",
    "print(\"Lista de times da Premier League 2022/2023\")\n",
    "print(times)"
   ]
  },
  {
   "attachments": {},
   "cell_type": "markdown",
   "metadata": {},
   "source": [
    "## Lembrando\n",
    "\n",
    "Para o modelo de previsão de resultados:\n",
    "\n",
    "- A acurácia do modelo de regressão logística é de 61.84%\n",
    "- A acurácia do modelo de decision tree é de 62.11%\n",
    "- A acurácia do modelo de random forest é de 62.37%\n",
    "- A acurácia do modelo support vector machine é de 61.32%\n",
    "- A acurácia do modelo naive bayes é de 47.11%\n",
    "\n",
    "\n",
    "Para o modelo de previsão de over/under 2.5 gols:\n",
    "\n",
    "- A acurácia do modelo de regressão logística é de 70.26%\n",
    "- A acurácia do modelo de decision tree é de 71.84%\n",
    "- A acurácia do modelo de random forest é de 71.84%\n",
    "- A acurácia do modelo support vector machine é de 68.95%\n",
    "- A acurácia do modelo naive bayes é de 56.84%"
   ]
  },
  {
   "attachments": {},
   "cell_type": "markdown",
   "metadata": {},
   "source": [
    "Agora, você pode selecionar o time que você quiser e seu adversário, vendo a recomendação de bet para o jogo, se vai ter mais ou menos de 2.5 gols e as odds de cada opção, como pode ser visto abaixo:"
   ]
  },
  {
   "cell_type": "code",
   "execution_count": 180,
   "metadata": {},
   "outputs": [
    {
     "name": "stdout",
     "output_type": "stream",
     "text": [
      "Sugestão de aposta: Vitória do time visitante com odd de 1.85\n",
      "Sugestão de aposta: Mais de 2.5 gols com odd de 1.73\n"
     ]
    }
   ],
   "source": [
    "sua_aposta = aposta_gols_usuario()"
   ]
  },
  {
   "attachments": {},
   "cell_type": "markdown",
   "metadata": {},
   "source": [
    "# Checando os resultados\n",
    "\n",
    "Legal, né? Agora vamos checar se o modelo acertou os jogos que ele previu, como pode ser visto abaixo:"
   ]
  },
  {
   "cell_type": "code",
   "execution_count": 181,
   "metadata": {},
   "outputs": [
    {
     "name": "stdout",
     "output_type": "stream",
     "text": [
      "[    Div        Date   Time    HomeTeam  AwayTeam  FTHG  FTAG FTR  HTHG  HTAG  \\\n",
      "178  E0  14/01/2023  12:30  Man United  Man City     2     1   H     0     0   \n",
      "\n",
      "     ... AvgC<2.5 AHCh  B365CAHH  B365CAHA  PCAHH  PCAHA  MaxCAHH  MaxCAHA  \\\n",
      "178  ...     2.22  0.5      2.06      1.87   2.02   1.91     2.06     1.95   \n",
      "\n",
      "     AvgCAHH  AvgCAHA  \n",
      "178      2.0     1.89  \n",
      "\n",
      "[1 rows x 106 columns], 'Erramos o resultado', 'Acertamos que o jogo teve mais de 2.5 gols']\n"
     ]
    }
   ],
   "source": [
    "print(resultado_aposta(sua_aposta))"
   ]
  },
  {
   "attachments": {},
   "cell_type": "markdown",
   "metadata": {},
   "source": [
    "# Conclusão\n",
    "\n",
    "Por fim, é relevante ressaltar que foi conquistado uma acurácia de 61.84% no modelo de previsão de resultados, e uma acurácia de 70.26% no modelo de previsão de over/under 2.5 gols. Esses resultados são bons, mas não são perfeitos, e por isso, é muito interessante como por mais que o futebol dependa muito de táticas e estátisticas, a imprevisibilidade ainda é um fator muito importante no esporte, tirando obviamente os casos de manipulação de resultados.\n",
    "\n",
    "Possíveis outras justificativas para a diminuição da acurária dos modelos envolve a capacidade de desenvolvimento dos times, além da importância financeira. Quando pegamos dados individuais dos clubes, o newcastle é um dos que mais tem erro na previsão, já que até ano passado o time sofria com donos que não investiam no time, mas recentemente, o time foi comprado por um bilionário e o crescimento do time foi notável.\n",
    "\n",
    "Além disso, possíveis iterações de apostas podem ser feitas, como por exemplo, apostar no resultado do primeiro tempo, ou até mesmo apostar no resultado do primeiro tempo e do segundo tempo. Outra iteração interessante seria apostar no resultado do jogo, mas com um handicap, que é uma vantagem que um time recebe antes do jogo começar, como por exemplo, o time A começa o jogo com 1 gol de vantagem, e o time B começa o jogo com 1 gol de desvantagem. Dessa forma, o time A só ganha a aposta se ganhar o jogo por 2 gols de diferença, e o time B só ganha a aposta se ganhar o jogo ou empatar. Além disso, existe a possibilidade de apostar em escanteios, cartões, e até mesmo em quem vai fazer o primeiro gol do jogo, mas o dataset não possui esses dados, e por isso, não foi possível fazer essas iterações."
   ]
  },
  {
   "cell_type": "code",
   "execution_count": null,
   "metadata": {},
   "outputs": [],
   "source": []
  }
 ],
 "metadata": {
  "kernelspec": {
   "display_name": "ames",
   "language": "python",
   "name": "python3"
  },
  "language_info": {
   "codemirror_mode": {
    "name": "ipython",
    "version": 3
   },
   "file_extension": ".py",
   "mimetype": "text/x-python",
   "name": "python",
   "nbconvert_exporter": "python",
   "pygments_lexer": "ipython3",
   "version": "3.9.13"
  },
  "orig_nbformat": 4
 },
 "nbformat": 4,
 "nbformat_minor": 2
}
