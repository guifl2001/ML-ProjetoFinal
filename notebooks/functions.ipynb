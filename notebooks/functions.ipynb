{
 "cells": [
  {
   "attachments": {},
   "cell_type": "markdown",
   "metadata": {},
   "source": [
    "# Funções\n",
    "Arquivo de funções de machine Learning para prever boas apostas de futebol para a Bet365 na temporada 2021/2022 da Premier League"
   ]
  },
  {
   "cell_type": "code",
   "execution_count": 49,
   "metadata": {},
   "outputs": [],
   "source": [
    "import pandas as pd\n",
    "import pathlib\n",
    "from sklearn.model_selection import train_test_split\n",
    "from sklearn.tree import DecisionTreeClassifier\n",
    "from sklearn.linear_model import LogisticRegression\n",
    "from sklearn.ensemble import RandomForestClassifier\n",
    "from sklearn.naive_bayes import GaussianNB\n",
    "from sklearn.svm import SVC\n",
    "from sklearn.metrics import accuracy_score\n",
    "import numpy as np\n",
    "import re"
   ]
  },
  {
   "cell_type": "code",
   "execution_count": 66,
   "metadata": {},
   "outputs": [
    {
     "data": {
      "text/plain": [
       "GaussianNB()"
      ]
     },
     "execution_count": 66,
     "metadata": {},
     "output_type": "execute_result"
    }
   ],
   "source": [
    "# Carregue o conjunto de dados\n",
    "db = pathlib.Path.cwd() / \"../data/final_dataset.csv\"\n",
    "data = pd.read_csv(db)\n",
    "\n",
    "# Filtrar os resultados antes de 31/06/2021\n",
    "train_data = data[data['Date'] < '2021-06-30']\n",
    "\n",
    "# Mantenha apenas as colunas \"HomeTeam\", \"AwayTeam\" e \"FTR\" (resultado)\n",
    "train_data = train_data[[\"HomeTeam\", \"AwayTeam\", \"FTR\"]]\n",
    "\n",
    "# Verifique se há valores ausentes\n",
    "train_data.isnull().sum()\n",
    "\n",
    "# Converta as variáveis categóricas em variáveis numéricas usando one-hot encoding\n",
    "train_data_encoded = pd.get_dummies(train_data, columns=[\"HomeTeam\", \"AwayTeam\"], drop_first=True)\n",
    "\n",
    "# Separe as features (variáveis de entrada) e o target (variável de saída)\n",
    "X_train = train_data_encoded.drop(\"FTR\", axis=1)\n",
    "y_train = train_data_encoded[\"FTR\"]\n",
    "\n",
    "# Filtrar os resultados após 30/06/2021 para teste\n",
    "test_data = data[data['Date'] >= '2021-06-30']\n",
    "\n",
    "# Mantenha apenas as colunas \"HomeTeam\", \"AwayTeam\" e \"FTR\" (resultado)\n",
    "test_data = test_data[[\"HomeTeam\", \"AwayTeam\", \"FTR\"]]\n",
    "\n",
    "# Converta as variáveis categóricas em variáveis numéricas usando one-hot encoding\n",
    "test_data_encoded = pd.get_dummies(test_data, columns=[\"HomeTeam\", \"AwayTeam\"], drop_first=True)\n",
    "\n",
    "# Separe as features (variáveis de entrada) e o target (variável de saída)\n",
    "X_test = test_data_encoded.drop(\"FTR\", axis=1)\n",
    "y_test = test_data_encoded[\"FTR\"]\n",
    "\n",
    "# Crie e ajuste o modelo de regressão logística\n",
    "logreg = LogisticRegression()\n",
    "logreg.fit(X_train, y_train)\n",
    "\n",
    "# Crie e ajuste o modelo de árvore de decisão\n",
    "decision_tree = DecisionTreeClassifier(random_state=42)\n",
    "decision_tree.fit(X_train, y_train)\n",
    "\n",
    "# Crie e ajuste o modelo de Random Forest\n",
    "random_forest = RandomForestClassifier(n_estimators=100, random_state=42)\n",
    "random_forest.fit(X_train, y_train)\n",
    "\n",
    "# Crie e ajuste o modelo SVM\n",
    "svm = SVC()\n",
    "svm.fit(X_train, y_train)\n",
    "\n",
    "# Crie e ajuste o modelo Naive Bayes\n",
    "naive_bayes = GaussianNB()\n",
    "naive_bayes.fit(X_train, y_train)"
   ]
  },
  {
   "cell_type": "code",
   "execution_count": 67,
   "metadata": {},
   "outputs": [
    {
     "name": "stdout",
     "output_type": "stream",
     "text": [
      "Predição: ['NH']\n",
      "Sugestão de aposta: Apostar no empate (D)\n"
     ]
    }
   ],
   "source": [
    "import pandas as pd\n",
    "import numpy as np\n",
    "from sklearn.svm import SVC\n",
    "\n",
    "# Função para fazer uma sugestão de aposta com base no modelo treinado\n",
    "def fazer_sugestao_aposta(jogo, modelo):\n",
    "    # Criar DataFrame com as informações do jogo\n",
    "    jogo_df = pd.DataFrame(jogo, index=[0])\n",
    "    \n",
    "    # Aplicar one-hot encoding nas variáveis categóricas\n",
    "    jogo_encoded = pd.get_dummies(jogo_df, columns=[\"HomeTeam\", \"AwayTeam\"], drop_first=True)\n",
    "    \n",
    "    # Preencher colunas ausentes no conjunto de dados do jogo\n",
    "    missing_cols = set(X_train.columns) - set(jogo_encoded.columns)\n",
    "    for col in missing_cols:\n",
    "        jogo_encoded[col] = 0\n",
    "    \n",
    "    # Ordenar as colunas do conjunto de dados do jogo\n",
    "    jogo_encoded = jogo_encoded[X_train.columns]\n",
    "    \n",
    "    # Fazer a previsão com base no modelo treinado\n",
    "    predicao = modelo.predict(jogo_encoded)\n",
    "    print(\"Predição:\", predicao)\n",
    "    \n",
    "    # Mapear a previsão para uma sugestão de aposta\n",
    "    if predicao[0] == 'H':\n",
    "        sugestao = \"Apostar no time da casa (H)\"\n",
    "    elif predicao[0] == 'A':\n",
    "        sugestao = \"Apostar no time visitante (A)\"\n",
    "    else:\n",
    "        sugestao = \"Apostar no empate (D)\"\n",
    "    \n",
    "    return sugestao\n",
    "\n",
    "# Carregar o modelo treinado\n",
    "modelo = random_forest\n",
    "\n",
    "# Exemplo de jogo específico\n",
    "jogo = {\n",
    "    \"HomeTeam\": 'Aston Villa',\n",
    "    \"AwayTeam\": 'Man United',\n",
    "}\n",
    "\n",
    "# Fazer a sugestão de aposta com base no modelo treinado\n",
    "sugestao_aposta = fazer_sugestao_aposta(jogo, modelo)\n",
    "\n",
    "print(\"Sugestão de aposta:\", sugestao_aposta)"
   ]
  },
  {
   "cell_type": "code",
   "execution_count": 68,
   "metadata": {},
   "outputs": [
    {
     "name": "stdout",
     "output_type": "stream",
     "text": [
      "Acurácia do modelo: 0.6447784810126582\n"
     ]
    }
   ],
   "source": [
    "# Faça a previsão no conjunto de teste\n",
    "y_pred = logreg.predict(X_test)\n",
    "# Avalie o modelo no conjunto de teste\n",
    "accuracy = logreg.score(X_test, y_test)\n",
    "print(\"Acurácia do modelo:\", accuracy)"
   ]
  },
  {
   "cell_type": "code",
   "execution_count": 69,
   "metadata": {},
   "outputs": [
    {
     "name": "stdout",
     "output_type": "stream",
     "text": [
      "Acurácia do modelo: 0.6071993670886076\n"
     ]
    }
   ],
   "source": [
    "# Faça a previsão no conjunto de teste\n",
    "y_pred = decision_tree.predict(X_test)\n",
    "# Avalie a acurácia do modelo\n",
    "accuracy = accuracy_score(y_test, y_pred)\n",
    "print(\"Acurácia do modelo:\", accuracy)\n"
   ]
  },
  {
   "cell_type": "code",
   "execution_count": 70,
   "metadata": {},
   "outputs": [
    {
     "name": "stdout",
     "output_type": "stream",
     "text": [
      "Acurácia do modelo: 0.6107594936708861\n"
     ]
    }
   ],
   "source": [
    "# Faça previsões no conjunto de teste\n",
    "y_pred = random_forest.predict(X_test)\n",
    "# Avalie a acurácia do modelo\n",
    "accuracy = accuracy_score(y_test, y_pred)\n",
    "print(\"Acurácia do modelo:\", accuracy)"
   ]
  },
  {
   "cell_type": "code",
   "execution_count": 71,
   "metadata": {},
   "outputs": [
    {
     "name": "stdout",
     "output_type": "stream",
     "text": [
      "Acurácia do modelo: 0.6277689873417721\n"
     ]
    }
   ],
   "source": [
    "# Faça previsões no conjunto de teste\n",
    "y_pred = svm.predict(X_test)\n",
    "# Avalie a acurácia do modelo\n",
    "accuracy = accuracy_score(y_test, y_pred)\n",
    "print(\"Acurácia do modelo:\", accuracy)\n"
   ]
  },
  {
   "cell_type": "code",
   "execution_count": 72,
   "metadata": {},
   "outputs": [
    {
     "name": "stdout",
     "output_type": "stream",
     "text": [
      "Acurácia do modelo: 0.6257911392405063\n"
     ]
    }
   ],
   "source": [
    "# Faça previsões no conjunto de teste\n",
    "y_pred = naive_bayes.predict(X_test)\n",
    "# Avalie a acurácia do modelo\n",
    "accuracy = accuracy_score(y_test, y_pred)\n",
    "print(\"Acurácia do modelo:\", accuracy)\n"
   ]
  },
  {
   "cell_type": "code",
   "execution_count": null,
   "metadata": {},
   "outputs": [],
   "source": []
  },
  {
   "cell_type": "code",
   "execution_count": null,
   "metadata": {},
   "outputs": [],
   "source": []
  }
 ],
 "metadata": {
  "kernelspec": {
   "display_name": "ames",
   "language": "python",
   "name": "python3"
  },
  "language_info": {
   "codemirror_mode": {
    "name": "ipython",
    "version": 3
   },
   "file_extension": ".py",
   "mimetype": "text/x-python",
   "name": "python",
   "nbconvert_exporter": "python",
   "pygments_lexer": "ipython3",
   "version": "3.9.13"
  },
  "orig_nbformat": 4
 },
 "nbformat": 4,
 "nbformat_minor": 2
}
